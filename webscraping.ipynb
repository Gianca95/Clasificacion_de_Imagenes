{
 "cells": [
  {
   "cell_type": "code",
   "execution_count": 1,
   "metadata": {},
   "outputs": [
    {
     "name": "stderr",
     "output_type": "stream",
     "text": [
      "<ipython-input-1-9d210eb63c3b>:11: DeprecationWarning: executable_path has been deprecated, please pass in a Service object\n",
      "  wd = webdriver.Chrome(PATH)\n"
     ]
    }
   ],
   "source": [
    "from selenium import webdriver\n",
    "from selenium.webdriver.common.by import By\n",
    "import requests\n",
    "import io\n",
    "import os\n",
    "from PIL import Image\n",
    "import time\n",
    "\n",
    "PATH = \"D:/GITHUB/Clasificacion de Imagenes/chromedriver.exe\"\n",
    "\n",
    "wd = webdriver.Chrome(PATH)"
   ]
  },
  {
   "cell_type": "code",
   "execution_count": 2,
   "metadata": {},
   "outputs": [],
   "source": [
    "def get_images_from_google(wd, url, delay, max_images):\n",
    "\tdef scroll_down(wd):\n",
    "\t\twd.execute_script(\"window.scrollTo(0, document.body.scrollHeight);\")\n",
    "\t\ttime.sleep(delay)\n",
    "\t\n",
    "\twd.get(url)\n",
    "\n",
    "\timage_urls = set()\n",
    "\tskips = 0\n",
    "\n",
    "\twhile len(image_urls) + skips < max_images:\n",
    "\t\tscroll_down(wd)\n",
    "\n",
    "\t\tthumbnails = wd.find_elements(By.CLASS_NAME, \"Q4LuWd\")\n",
    "\n",
    "\t\tfor img in thumbnails[len(image_urls) + skips:max_images]:\n",
    "\t\t\ttry:\n",
    "\t\t\t\timg.click()\n",
    "\t\t\t\ttime.sleep(delay)\n",
    "\t\t\texcept:\n",
    "\t\t\t\tcontinue\n",
    "\n",
    "\t\t\timages = wd.find_elements(By.CLASS_NAME, \"n3VNCb\")\n",
    "\t\t\tfor image in images:\n",
    "\t\t\t\tif image.get_attribute('src') in image_urls:\n",
    "\t\t\t\t\tmax_images += 1\n",
    "\t\t\t\t\tskips += 1\n",
    "\t\t\t\t\tbreak\n",
    "\n",
    "\t\t\t\tif image.get_attribute('src') and 'http' in image.get_attribute('src'):\n",
    "\t\t\t\t\timage_urls.add(image.get_attribute('src'))\n",
    "\t\t\t\t\tprint(f\"Found {len(image_urls)}\")\n",
    "\n",
    "\treturn image_urls\n",
    "\n",
    "\n"
   ]
  },
  {
   "cell_type": "code",
   "execution_count": 3,
   "metadata": {},
   "outputs": [],
   "source": [
    "\n",
    "def download_image(download_path, url, file_name):\n",
    "\ttry:\n",
    "\t\timage_content = requests.get(url).content\n",
    "\t\timage_file = io.BytesIO(image_content)\n",
    "\t\timage = Image.open(image_file)\n",
    "\t\tfile_path = download_path + file_name\n",
    "\n",
    "\t\twith open(file_path, \"wb\") as f:\n",
    "\t\t\timage.save(f, \"JPEG\")\n",
    "\n",
    "\t\tprint(\"Success\")\n",
    "\texcept Exception as e:\n",
    "\t\tprint('FAILED -', e)"
   ]
  },
  {
   "cell_type": "code",
   "execution_count": 4,
   "metadata": {},
   "outputs": [],
   "source": [
    "def imagedown(url, name,max_images):\n",
    "    try:\n",
    "        os.mkdir(os.path.join(os.getcwd(), name))\n",
    "    except:\n",
    "        pass\n",
    "    os.chdir(os.path.join(os.getcwd(), name))\n",
    "\n",
    "    urls = get_images_from_google(wd, url, 1, max_images)\n",
    "\t\n",
    "    for i, link in enumerate(urls):\n",
    "        download_image(\"\", link, name +str(i) +\".jpg\")\n",
    "\n"
   ]
  },
  {
   "cell_type": "code",
   "execution_count": 5,
   "metadata": {},
   "outputs": [
    {
     "name": "stdout",
     "output_type": "stream",
     "text": [
      "Found 1\n",
      "Found 2\n",
      "Found 3\n",
      "Found 4\n",
      "Found 5\n",
      "Found 6\n",
      "Found 7\n",
      "Found 8\n",
      "Found 9\n",
      "Found 10\n",
      "Found 11\n",
      "Found 12\n",
      "Found 13\n",
      "Found 14\n",
      "Found 15\n",
      "Found 16\n",
      "Found 17\n",
      "Found 18\n",
      "Found 19\n",
      "Found 20\n",
      "Found 21\n",
      "Found 22\n",
      "Success\n",
      "Success\n",
      "Success\n",
      "Success\n",
      "Success\n",
      "Success\n",
      "Success\n",
      "Success\n",
      "Success\n",
      "Success\n",
      "Success\n",
      "Success\n",
      "Success\n",
      "Success\n",
      "Success\n",
      "Success\n",
      "Success\n",
      "Success\n",
      "Success\n",
      "Success\n",
      "Success\n",
      "Success\n"
     ]
    }
   ],
   "source": [
    "# Lionel Messi\n",
    "imagedown(\"https://www.google.com/search?q=messi+barcelona&tbm=isch&ved=2ahUKEwjA9N2J58r1AhUhh-AKHUgTCUkQ2-cCegQIABAA&oq=messi+barcelona&gs_lcp=CgNpbWcQAzIICAAQgAQQsQMyBQgAEIAEMgUIABCABDIFCAAQgAQyBQgAEIAEMgUIABCABDIFCAAQgAQyBQgAEIAEMgUIABCABDIFCAAQgAQ6BwgjEO8DECc6BAgAEAM6BAgAEEM6BggAEAcQHlCpHFi6LGDaMmgAcAB4AIABjgGIAfkLkgEEMC4xMpgBAKABAaoBC2d3cy13aXotaW1nwAEB&sclient=img&ei=ZtPuYcCpIaGOggfIpqTIBA&bih=882&biw=1708&client=opera-gx&hs=Yvk\",\"Messi\",20)"
   ]
  },
  {
   "cell_type": "code",
   "execution_count": 6,
   "metadata": {},
   "outputs": [
    {
     "name": "stdout",
     "output_type": "stream",
     "text": [
      "Found 1\n",
      "Found 2\n",
      "Found 3\n",
      "Found 4\n",
      "Found 5\n",
      "Found 6\n",
      "Found 7\n",
      "Found 8\n",
      "Found 9\n",
      "Found 10\n",
      "Found 11\n",
      "Found 12\n",
      "Found 13\n",
      "Found 14\n",
      "Found 15\n",
      "Found 16\n",
      "Found 17\n",
      "Found 18\n",
      "Found 19\n",
      "Found 20\n",
      "Success\n",
      "Success\n",
      "Success\n",
      "Success\n",
      "Success\n",
      "Success\n",
      "Success\n",
      "Success\n",
      "Success\n",
      "Success\n",
      "Success\n",
      "Success\n",
      "Success\n",
      "Success\n",
      "Success\n",
      "Success\n",
      "Success\n",
      "Success\n",
      "Success\n",
      "Success\n"
     ]
    }
   ],
   "source": [
    "#Sharapova\n",
    "imagedown(\"https://www.google.com/search?q=sharapova+campeona&tbm=isch&ved=2ahUKEwjqhIaP58r1AhWEON8KHTlBDoEQ2-cCegQIABAA&oq=sharapova+campeona&gs_lcp=CgNpbWcQAzoHCCMQ7wMQJzoFCAAQgAQ6BAgAEEM6BwgAELEDEEM6CAgAEIAEELEDOgQIABAeOgYIABAFEB5Q5wZYsRtgjx1oAHAAeACAAa8BiAGiE5IBBDAuMTmYAQCgAQGqAQtnd3Mtd2l6LWltZ8ABAQ&sclient=img&ei=cdPuYaqIKoTx_Aa5grmICA&bih=882&biw=1708&client=opera-gx&hs=Yvk\",\"Sharapova\",20)"
   ]
  },
  {
   "cell_type": "code",
   "execution_count": 7,
   "metadata": {},
   "outputs": [
    {
     "name": "stdout",
     "output_type": "stream",
     "text": [
      "Found 1\n",
      "Found 2\n",
      "Found 3\n",
      "Found 4\n",
      "Found 5\n",
      "Found 6\n",
      "Found 7\n",
      "Found 8\n",
      "Found 9\n",
      "Found 10\n",
      "Found 11\n",
      "Found 12\n",
      "Found 13\n",
      "Found 14\n",
      "Found 15\n",
      "Found 16\n",
      "Found 17\n",
      "Found 18\n",
      "Found 19\n",
      "Found 20\n",
      "Success\n",
      "FAILED - ('Connection aborted.', ConnectionResetError(10054, 'Se ha forzado la interrupción de una conexión existente por el host remoto', None, 10054, None))\n",
      "Success\n",
      "Success\n",
      "Success\n",
      "Success\n",
      "Success\n",
      "Success\n",
      "Success\n",
      "Success\n",
      "Success\n",
      "Success\n",
      "Success\n",
      "Success\n",
      "Success\n",
      "Success\n",
      "Success\n",
      "Success\n",
      "Success\n",
      "Success\n"
     ]
    }
   ],
   "source": [
    "#Rafael Nadal\n",
    "imagedown(\"https://www.google.com/search?q=rafael+nadal+campeon&tbm=isch&ved=2ahUKEwiz7eT858r1AhWHA98KHdPsBo4Q2-cCegQIABAA&oq=rafael+nadal+campeon&gs_lcp=CgNpbWcQAzIFCAAQgAQyBQgAEIAEMgQIABAYOgcIIxDvAxAnOgYIABAHEB46CAgAEAgQBxAeUPEGWPkkYNwoaAFwAHgAgAGPAYgBpBCSAQQwLjE2mAEAoAEBqgELZ3dzLXdpei1pbWfAAQE&sclient=img&ei=V9TuYfPlMoeH_AbT2ZvwCA&bih=882&biw=1708&client=opera-gx&hs=Yvk\",\"Rafael_Nadal\",20)"
   ]
  },
  {
   "cell_type": "code",
   "execution_count": 9,
   "metadata": {},
   "outputs": [
    {
     "name": "stdout",
     "output_type": "stream",
     "text": [
      "Found 1\n",
      "Found 2\n",
      "Found 3\n",
      "Found 4\n",
      "Found 5\n",
      "Found 6\n",
      "Found 7\n",
      "Found 8\n",
      "Found 9\n",
      "Found 10\n",
      "Found 11\n",
      "Found 12\n",
      "Found 13\n",
      "Found 14\n",
      "Found 15\n",
      "Found 16\n",
      "Found 17\n",
      "Found 18\n",
      "Found 19\n",
      "Found 20\n",
      "Found 21\n",
      "Success\n",
      "Success\n",
      "Success\n",
      "Success\n",
      "FAILED - cannot write mode P as JPEG\n",
      "Success\n",
      "Success\n",
      "Success\n",
      "Success\n",
      "Success\n",
      "FAILED - cannot write mode P as JPEG\n",
      "Success\n",
      "Success\n",
      "Success\n",
      "Success\n",
      "Success\n",
      "Success\n",
      "Success\n",
      "FAILED - cannot write mode P as JPEG\n",
      "Success\n",
      "Success\n"
     ]
    }
   ],
   "source": [
    "# Sofia Mulanovich\n",
    "imagedown(\"https://www.google.com/search?q=sofia+mulanovich+instagram&tbm=isch&ved=2ahUKEwiQ6dO56sr1AhUBMN8KHYA1Dp0Q2-cCegQIABAA&oq=sofia+mulanovich+instagram&gs_lcp=CgNpbWcQAzIECAAQGDoHCCMQ7wMQJzoGCAAQCBAeULgMWI0UYKcXaABwAHgAgAGOAYgBlAqSAQQwLjEwmAEAoAEBqgELZ3dzLXdpei1pbWfAAQE&sclient=img&ei=8NbuYZCxFYHg_AaA67joCQ&bih=882&biw=1708&client=opera-gx&hs=Yvk#imgrc=Tn9MOsb0-NQ9ZM\",\"Sofia_Mulanovich\",20)"
   ]
  },
  {
   "cell_type": "code",
   "execution_count": 7,
   "metadata": {},
   "outputs": [
    {
     "name": "stdout",
     "output_type": "stream",
     "text": [
      "Found 1\n",
      "Found 2\n",
      "Found 3\n",
      "Found 4\n",
      "Found 5\n",
      "Found 6\n",
      "Found 7\n",
      "Found 8\n",
      "Found 9\n",
      "Found 10\n",
      "Found 11\n",
      "Found 12\n",
      "Found 13\n",
      "Found 14\n",
      "Found 15\n",
      "Found 16\n",
      "Found 17\n",
      "Found 18\n",
      "Found 19\n",
      "Found 20\n",
      "Found 21\n",
      "Success\n",
      "Success\n",
      "Success\n",
      "Success\n",
      "Success\n",
      "Success\n",
      "Success\n",
      "Success\n",
      "Success\n",
      "Success\n",
      "Success\n",
      "Success\n",
      "Success\n",
      "Success\n",
      "Success\n",
      "Success\n",
      "Success\n",
      "Success\n",
      "Success\n",
      "Success\n",
      "Success\n"
     ]
    }
   ],
   "source": [
    "#Cristiano Ronaldo\n",
    "imagedown(\"https://www.google.com/search?q=cristiano+ronaldol+juventus&tbm=isch&ved=2ahUKEwi6pPmw5cr1AhWhwikDHYCoDSsQ2-cCegQIABAA&oq=cristiano+ronaldol+juventus&gs_lcp=CgNpbWcQAzoHCCMQ7wMQJ1DTEFinF2D_GGgAcAB4AIAB0wGIAeUJkgEFMC44LjGYAQCgAQGqAQtnd3Mtd2l6LWltZ8ABAQ&sclient=img&ei=n9HuYfrYN6GFp8kPgNG22AI&bih=882&biw=1708&client=opera-gx&hs=Yvk\",\"Cristiano_Ronaldo\",20)"
   ]
  },
  {
   "cell_type": "code",
   "execution_count": 6,
   "metadata": {},
   "outputs": [],
   "source": [
    "wd.quit()"
   ]
  },
  {
   "cell_type": "code",
   "execution_count": null,
   "metadata": {},
   "outputs": [],
   "source": []
  }
 ],
 "metadata": {
  "interpreter": {
   "hash": "4ce0e62306dd6a5716965d4519ada776f947e6dfc145b604b11307c10277ef29"
  },
  "kernelspec": {
   "display_name": "Python 3.9.5 64-bit",
   "language": "python",
   "name": "python3"
  },
  "language_info": {
   "codemirror_mode": {
    "name": "ipython",
    "version": 3
   },
   "file_extension": ".py",
   "mimetype": "text/x-python",
   "name": "python",
   "nbconvert_exporter": "python",
   "pygments_lexer": "ipython3",
   "version": "3.9.5"
  },
  "orig_nbformat": 4
 },
 "nbformat": 4,
 "nbformat_minor": 2
}
